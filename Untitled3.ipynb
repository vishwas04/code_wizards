{
  "nbformat": 4,
  "nbformat_minor": 0,
  "metadata": {
    "colab": {
      "name": "Untitled3.ipynb",
      "provenance": [],
      "authorship_tag": "ABX9TyM41xP5CVMYjTwx9e0LeNqM",
      "include_colab_link": true
    },
    "kernelspec": {
      "name": "python3",
      "display_name": "Python 3"
    },
    "language_info": {
      "name": "python"
    }
  },
  "cells": [
    {
      "cell_type": "markdown",
      "metadata": {
        "id": "view-in-github",
        "colab_type": "text"
      },
      "source": [
        "<a href=\"https://colab.research.google.com/github/vishwas04/code_wizards/blob/main/Untitled3.ipynb\" target=\"_parent\"><img src=\"https://colab.research.google.com/assets/colab-badge.svg\" alt=\"Open In Colab\"/></a>"
      ]
    },
    {
      "cell_type": "code",
      "metadata": {
        "id": "hU7PZESPZ1OP"
      },
      "source": [
        "import tensorflow as tf\n",
        "from tensorflow.keras import datasets, layers, models\n",
        "import matplotlib.pyplot as plt\n",
        "import numpy as np"
      ],
      "execution_count": 1,
      "outputs": []
    },
    {
      "cell_type": "code",
      "metadata": {
        "colab": {
          "base_uri": "https://localhost:8080/"
        },
        "id": "KhBvz8mAZ4St",
        "outputId": "28c8844d-9485-48b8-ea3a-711f9476debf"
      },
      "source": [
        "(X_train, y_train), (X_test,y_test) = datasets.cifar10.load_data()\n",
        "\n",
        "X_train = X_train / 255.0\n",
        "X_test = X_test / 255.0"
      ],
      "execution_count": 2,
      "outputs": [
        {
          "output_type": "stream",
          "text": [
            "Downloading data from https://www.cs.toronto.edu/~kriz/cifar-10-python.tar.gz\n",
            "170500096/170498071 [==============================] - 11s 0us/step\n"
          ],
          "name": "stdout"
        }
      ]
    },
    {
      "cell_type": "code",
      "metadata": {
        "id": "p-yZZL5UZ_fx"
      },
      "source": [
        "cnn = models.Sequential([\n",
        "    layers.Conv2D(filters=32, kernel_size=(3, 3), activation='relu', input_shape=(32, 32, 3)),\n",
        "    layers.MaxPooling2D((2, 2)),\n",
        "    \n",
        "    layers.Conv2D(filters=64, kernel_size=(3, 3), activation='relu'),\n",
        "    layers.MaxPooling2D((2, 2)),\n",
        "    \n",
        "    layers.Flatten(),\n",
        "    layers.Dense(64, activation='relu'),\n",
        "    layers.Dense(10, activation='softmax')\n",
        "])"
      ],
      "execution_count": 3,
      "outputs": []
    },
    {
      "cell_type": "code",
      "metadata": {
        "colab": {
          "base_uri": "https://localhost:8080/"
        },
        "id": "Zdj6XLv-aGAy",
        "outputId": "4113f8a2-5e1a-44e8-eee6-0055d68dd458"
      },
      "source": [
        "cnn.compile(optimizer='adam',\n",
        "              loss='sparse_categorical_crossentropy',\n",
        "              metrics=['accuracy'])\n",
        "cnn.fit(X_train, y_train, epochs=20)"
      ],
      "execution_count": 7,
      "outputs": [
        {
          "output_type": "stream",
          "text": [
            "Epoch 1/20\n",
            "1563/1563 [==============================] - 56s 36ms/step - loss: 0.4677 - accuracy: 0.8381\n",
            "Epoch 2/20\n",
            "1563/1563 [==============================] - 56s 36ms/step - loss: 0.4189 - accuracy: 0.8531\n",
            "Epoch 3/20\n",
            "1563/1563 [==============================] - 56s 36ms/step - loss: 0.3877 - accuracy: 0.8648\n",
            "Epoch 4/20\n",
            "1563/1563 [==============================] - 56s 36ms/step - loss: 0.3620 - accuracy: 0.8757\n",
            "Epoch 5/20\n",
            "1563/1563 [==============================] - 56s 36ms/step - loss: 0.3350 - accuracy: 0.8814\n",
            "Epoch 6/20\n",
            "1563/1563 [==============================] - 58s 37ms/step - loss: 0.3006 - accuracy: 0.8947\n",
            "Epoch 7/20\n",
            "1563/1563 [==============================] - 56s 36ms/step - loss: 0.2770 - accuracy: 0.9031\n",
            "Epoch 8/20\n",
            "1563/1563 [==============================] - 56s 36ms/step - loss: 0.2775 - accuracy: 0.9052\n",
            "Epoch 9/20\n",
            "1563/1563 [==============================] - 56s 36ms/step - loss: 0.2419 - accuracy: 0.9128\n",
            "Epoch 10/20\n",
            "1563/1563 [==============================] - 56s 36ms/step - loss: 0.2222 - accuracy: 0.9231\n",
            "Epoch 11/20\n",
            "1563/1563 [==============================] - 56s 36ms/step - loss: 0.2120 - accuracy: 0.9249\n",
            "Epoch 12/20\n",
            "1563/1563 [==============================] - 56s 36ms/step - loss: 0.1918 - accuracy: 0.9325\n",
            "Epoch 13/20\n",
            "1563/1563 [==============================] - 56s 36ms/step - loss: 0.1871 - accuracy: 0.9351\n",
            "Epoch 14/20\n",
            "1563/1563 [==============================] - 56s 36ms/step - loss: 0.1677 - accuracy: 0.9398\n",
            "Epoch 15/20\n",
            "1563/1563 [==============================] - 56s 36ms/step - loss: 0.1561 - accuracy: 0.9457\n",
            "Epoch 16/20\n",
            "1563/1563 [==============================] - 56s 36ms/step - loss: 0.1464 - accuracy: 0.9475\n",
            "Epoch 17/20\n",
            "1563/1563 [==============================] - 56s 36ms/step - loss: 0.1420 - accuracy: 0.9494\n",
            "Epoch 18/20\n",
            "1563/1563 [==============================] - 56s 36ms/step - loss: 0.1349 - accuracy: 0.9523\n",
            "Epoch 19/20\n",
            "1563/1563 [==============================] - 56s 36ms/step - loss: 0.1274 - accuracy: 0.9531\n",
            "Epoch 20/20\n",
            "1563/1563 [==============================] - 56s 36ms/step - loss: 0.1143 - accuracy: 0.9593\n"
          ],
          "name": "stdout"
        },
        {
          "output_type": "execute_result",
          "data": {
            "text/plain": [
              "<tensorflow.python.keras.callbacks.History at 0x7fb86cf08350>"
            ]
          },
          "metadata": {
            "tags": []
          },
          "execution_count": 7
        }
      ]
    },
    {
      "cell_type": "code",
      "metadata": {
        "colab": {
          "base_uri": "https://localhost:8080/",
          "height": 317
        },
        "id": "JkPn-5HwaJmd",
        "outputId": "73a17c55-f2a4-41dd-ce27-fa3056dbf4d9"
      },
      "source": [
        "y_pred = cnn.predict(X_test)\n",
        "\n",
        "i=13\n",
        "\n",
        "classes = [\"airplane\",\"automobile\",\"bird\",\"cat\",\"deer\",\"dog\",\"frog\",\"horse\",\"ship\",\"truck\"]\n",
        "print(classes[np.argmax(y_pred[i])])\n",
        "print(np.argmax(y_pred[i]))\n",
        "plt.imshow(X_test[i])"
      ],
      "execution_count": 10,
      "outputs": [
        {
          "output_type": "stream",
          "text": [
            "horse\n",
            "7\n"
          ],
          "name": "stdout"
        },
        {
          "output_type": "execute_result",
          "data": {
            "text/plain": [
              "<matplotlib.image.AxesImage at 0x7fb869fb9110>"
            ]
          },
          "metadata": {
            "tags": []
          },
          "execution_count": 10
        },
        {
          "output_type": "display_data",
          "data": {
            "image/png": "[encoded data removed]",
            "text/plain": [
              "<Figure size 432x288 with 1 Axes>"
            ]
          },
          "metadata": {
            "tags": [],
            "needs_background": "light"
          }
        }
      ]
    },
    {
      "cell_type": "code",
      "metadata": {
        "colab": {
          "base_uri": "https://localhost:8080/",
          "height": 317
        },
        "id": "c1QZuxcihRf6",
        "outputId": "8486205e-dadf-4437-bc6e-0cc85c6ec96c"
      },
      "source": [
        "i=565\n",
        "\n",
        "classes = [\"airplane\",\"automobile\",\"bird\",\"cat\",\"deer\",\"dog\",\"frog\",\"horse\",\"ship\",\"truck\"]\n",
        "print(classes[np.argmax(y_pred[i])])\n",
        "print(np.argmax(y_pred[i]))\n",
        "plt.imshow(X_test[i])"
      ],
      "execution_count": 19,
      "outputs": [
        {
          "output_type": "stream",
          "text": [
            "cat\n",
            "3\n"
          ],
          "name": "stdout"
        },
        {
          "output_type": "execute_result",
          "data": {
            "text/plain": [
              "<matplotlib.image.AxesImage at 0x7fb869ceba90>"
            ]
          },
          "metadata": {
            "tags": []
          },
          "execution_count": 19
        },
        {
          "output_type": "display_data",
          "data": {
            "image/png": "[encoded data removed]",
            "text/plain": [
              "<Figure size 432x288 with 1 Axes>"
            ]
          },
          "metadata": {
            "tags": [],
            "needs_background": "light"
          }
        }
      ]
    },
    {
      "cell_type": "code",
      "metadata": {
        "id": "JlKFNGe1hhyT"
      },
      "source": [
        ""
      ],
      "execution_count": null,
      "outputs": []
    }
  ]
}